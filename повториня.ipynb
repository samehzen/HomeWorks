{
  "nbformat": 4,
  "nbformat_minor": 0,
  "metadata": {
    "colab": {
      "provenance": [],
      "authorship_tag": "ABX9TyNKHfXwxKAiIdwzPeilqGtP",
      "include_colab_link": true
    },
    "kernelspec": {
      "name": "python3",
      "display_name": "Python 3"
    },
    "language_info": {
      "name": "python"
    }
  },
  "cells": [
    {
      "cell_type": "markdown",
      "metadata": {
        "id": "view-in-github",
        "colab_type": "text"
      },
      "source": [
        "<a href=\"https://colab.research.google.com/github/samehzen/HomeWorks/blob/main/%D0%BF%D0%BE%D0%B2%D1%82%D0%BE%D1%80%D0%B8%D0%BD%D1%8F.ipynb\" target=\"_parent\"><img src=\"https://colab.research.google.com/assets/colab-badge.svg\" alt=\"Open In Colab\"/></a>"
      ]
    },
    {
      "cell_type": "markdown",
      "source": [
        "# 3"
      ],
      "metadata": {
        "id": "hv2nsPv9hnuZ"
      }
    },
    {
      "cell_type": "markdown",
      "source": [
        "2"
      ],
      "metadata": {
        "id": "nq45lHQkvXGH"
      }
    },
    {
      "cell_type": "code",
      "source": [
        "a=float(input())\n",
        "if a>0 :\n",
        "  s=a**2\n",
        "  print(s)\n",
        "else:\n",
        "  print(none)\n"
      ],
      "metadata": {
        "colab": {
          "base_uri": "https://localhost:8080/"
        },
        "id": "4ZqUdQzfvZVS",
        "outputId": "1ac01eda-77e9-4d75-99f8-69547240637e"
      },
      "execution_count": 67,
      "outputs": [
        {
          "output_type": "stream",
          "name": "stdout",
          "text": [
            "5\n",
            "25.0\n"
          ]
        }
      ]
    },
    {
      "cell_type": "markdown",
      "source": [
        "begin 8"
      ],
      "metadata": {
        "id": "ul_oXcEMhrNS"
      }
    },
    {
      "cell_type": "code",
      "source": [
        "def artithmetic_mean(a, b):\n",
        "    return (a + b) / 2\n",
        "    result = artithmetic_mean(num1, num2)\n",
        "print(result)\n"
      ],
      "metadata": {
        "colab": {
          "base_uri": "https://localhost:8080/"
        },
        "id": "pmy9_kgAiDk7",
        "outputId": "a3fe5f7a-fb6a-492e-ea96-b79b6e35f283"
      },
      "execution_count": 25,
      "outputs": [
        {
          "output_type": "stream",
          "name": "stdout",
          "text": [
            "5.0\n"
          ]
        }
      ]
    },
    {
      "cell_type": "markdown",
      "source": [
        "begin 9"
      ],
      "metadata": {
        "id": "KIWAaxTlnNKc"
      }
    },
    {
      "cell_type": "code",
      "source": [
        "import math\n",
        "def g(a,b) :\n",
        "   if a<0 and b<0 :\n",
        "    return None\n",
        "    return math_sqrt(a*b)\n",
        "a=8\n",
        "b=0\n",
        "print(g(a,b))"
      ],
      "metadata": {
        "colab": {
          "base_uri": "https://localhost:8080/"
        },
        "id": "-xf9zJXTnOJy",
        "outputId": "86573fff-ac13-45f3-8495-b57556c6460d"
      },
      "execution_count": 63,
      "outputs": [
        {
          "output_type": "stream",
          "name": "stdout",
          "text": [
            "None\n"
          ]
        }
      ]
    },
    {
      "cell_type": "markdown",
      "source": [
        "begin 10"
      ],
      "metadata": {
        "id": "CfadPQS-qvSW"
      }
    },
    {
      "cell_type": "code",
      "source": [
        "a= float(input())\n",
        "b= float(input())\n",
        "if a!=0 and b!=0 :\n",
        "  a2=a**2\n",
        "  b2=b**2\n",
        "  print(a2+b2)\n",
        "  print(a2-b2)\n",
        "  print(a2*b2)\n",
        "  print(a2/b2)\n",
        "else :\n",
        "  print(none)"
      ],
      "metadata": {
        "colab": {
          "base_uri": "https://localhost:8080/"
        },
        "id": "qMhRQihwqxY2",
        "outputId": "68bdf38f-b295-453e-f99b-267d27e7c38c"
      },
      "execution_count": 64,
      "outputs": [
        {
          "output_type": "stream",
          "name": "stdout",
          "text": [
            "3\n",
            "5\n",
            "34.0\n",
            "-16.0\n",
            "225.0\n",
            "0.36\n"
          ]
        }
      ]
    },
    {
      "cell_type": "markdown",
      "source": [
        "begin 11"
      ],
      "metadata": {
        "id": "D30W-X2QuCJ2"
      }
    },
    {
      "cell_type": "code",
      "source": [
        "a= float(input())\n",
        "b= float(input())\n",
        "if a!=0 and b!=0 :\n",
        "  a_abs=abs(a)\n",
        "  b_abs=abs(b)\n",
        "  print(a_abs+b_abs)\n",
        "  print(a_abs-b_abs)\n",
        "  print(a_abs*b_abs)\n",
        "  print(a_abs/b_abs)\n",
        "else :\n",
        "  print(none)"
      ],
      "metadata": {
        "colab": {
          "base_uri": "https://localhost:8080/"
        },
        "id": "wqg6JgMOuFPN",
        "outputId": "fbf56814-7db1-471a-e6b0-80290d07301e"
      },
      "execution_count": 66,
      "outputs": [
        {
          "output_type": "stream",
          "name": "stdout",
          "text": [
            "3\n",
            "5\n",
            "8.0\n",
            "-2.0\n",
            "15.0\n",
            "0.6\n"
          ]
        }
      ]
    },
    {
      "cell_type": "markdown",
      "source": [
        "# 4"
      ],
      "metadata": {
        "id": "YT84bgcXvymq"
      }
    },
    {
      "cell_type": "markdown",
      "source": [
        "10"
      ],
      "metadata": {
        "id": "c61AxjHKwZiB"
      }
    },
    {
      "cell_type": "code",
      "source": [
        "a=int(input())\n",
        "if 100<=abs(a)<=999 :\n",
        "    a1=abs(a)%10\n",
        "    a2=(abs(a)//10)%10\n",
        "    print(a1)\n",
        "    print(a2)\n",
        "else:\n",
        "  print(None)"
      ],
      "metadata": {
        "colab": {
          "base_uri": "https://localhost:8080/"
        },
        "id": "7qoVeS46wauH",
        "outputId": "59a35024-2b5d-4772-80e3-d4d51d78c671"
      },
      "execution_count": 72,
      "outputs": [
        {
          "output_type": "stream",
          "name": "stdout",
          "text": [
            "555\n",
            "5\n",
            "5\n"
          ]
        }
      ]
    },
    {
      "cell_type": "markdown",
      "source": [
        "11"
      ],
      "metadata": {
        "id": "pWolakdaxxJP"
      }
    },
    {
      "cell_type": "code",
      "source": [
        "a=int(input())\n",
        "if 100<=abs(a)<=999 :\n",
        "    a1=abs(a)%10\n",
        "    a2=(abs(a)//10)%10\n",
        "    a3=abs(a)//100\n",
        "    sum=a1+a2+a3\n",
        "    dig=a1*a2*a3\n",
        "    print(a1)\n",
        "    print(a2)\n",
        "    print(a3)\n",
        "    print(sum)\n",
        "    print(dig)\n",
        "\n",
        "else:\n",
        "  print(None)"
      ],
      "metadata": {
        "colab": {
          "base_uri": "https://localhost:8080/"
        },
        "id": "x8TpWOu_xyOj",
        "outputId": "0b2d849c-8400-44e6-88ac-3b8bef163cbc"
      },
      "execution_count": 73,
      "outputs": [
        {
          "output_type": "stream",
          "name": "stdout",
          "text": [
            "123\n",
            "3\n",
            "2\n",
            "1\n",
            "6\n",
            "6\n"
          ]
        }
      ]
    },
    {
      "cell_type": "markdown",
      "source": [
        "12"
      ],
      "metadata": {
        "id": "pLZpyz1wzMMH"
      }
    },
    {
      "cell_type": "code",
      "source": [
        "a=int(input())\n",
        "if 100<=abs(a)<=999 :\n",
        "  rev=str(abs(a))[::-1]\n",
        "  print(rev)"
      ],
      "metadata": {
        "colab": {
          "base_uri": "https://localhost:8080/"
        },
        "id": "MBBjMgkFzNHE",
        "outputId": "641a6fe9-a29b-41ab-c7a3-d97d8a00acd1"
      },
      "execution_count": 74,
      "outputs": [
        {
          "output_type": "stream",
          "name": "stdout",
          "text": [
            "887\n",
            "788\n"
          ]
        }
      ]
    },
    {
      "cell_type": "markdown",
      "source": [
        "13"
      ],
      "metadata": {
        "id": "gG5k_qk-0J9o"
      }
    },
    {
      "cell_type": "code",
      "source": [
        "a=int(input())\n",
        "if 100<=abs(a)<=999 :\n",
        "   a3=abs(a)//100\n",
        "   a1=abs(a)%100\n",
        "   new=a1*10+a3\n",
        "   print(new)\n"
      ],
      "metadata": {
        "colab": {
          "base_uri": "https://localhost:8080/"
        },
        "id": "0gFs8DeK0K1d",
        "outputId": "e078f737-99e6-4670-a1d4-2f4741ecfea6"
      },
      "execution_count": 77,
      "outputs": [
        {
          "output_type": "stream",
          "name": "stdout",
          "text": [
            "123\n",
            "231\n"
          ]
        }
      ]
    },
    {
      "cell_type": "markdown",
      "source": [
        "14"
      ],
      "metadata": {
        "id": "G4iXpnrY1jZ8"
      }
    },
    {
      "cell_type": "code",
      "source": [
        "a=int(input())\n",
        "if 100<=abs(a)<=999 :\n",
        "   a1=abs(a)//10\n",
        "   a2=abs(a)%10\n",
        "   new=a2*100+a1\n",
        "   print(new)"
      ],
      "metadata": {
        "colab": {
          "base_uri": "https://localhost:8080/"
        },
        "id": "51h18A_J1kLW",
        "outputId": "a9733d18-43e1-4d13-9dfd-2c4825d83264"
      },
      "execution_count": 81,
      "outputs": [
        {
          "output_type": "stream",
          "name": "stdout",
          "text": [
            "123\n",
            "312\n"
          ]
        }
      ]
    },
    {
      "cell_type": "markdown",
      "source": [
        "# 5"
      ],
      "metadata": {
        "id": "Pd94DyP52l5T"
      }
    },
    {
      "cell_type": "markdown",
      "source": [
        "12"
      ],
      "metadata": {
        "id": "y4w3PDO74so5"
      }
    },
    {
      "cell_type": "code",
      "source": [
        "A=int(input())\n",
        "B=int(input())\n",
        "C=int(input())\n",
        "if A>0 and B>0 and C>0 :\n",
        "  print('true')\n",
        "else:\n",
        "     print('fulse')"
      ],
      "metadata": {
        "colab": {
          "base_uri": "https://localhost:8080/"
        },
        "id": "yNRZS_EP2nwC",
        "outputId": "a082e08d-5020-42ac-bea6-276336258aa0"
      },
      "execution_count": 96,
      "outputs": [
        {
          "output_type": "stream",
          "name": "stdout",
          "text": [
            "5\n",
            "0\n",
            "5\n",
            "fulse\n"
          ]
        }
      ]
    },
    {
      "cell_type": "markdown",
      "source": [
        "13"
      ],
      "metadata": {
        "id": "3_nHN7dA4uM9"
      }
    },
    {
      "cell_type": "code",
      "source": [
        "A=int(input())\n",
        "B=int(input())\n",
        "C=int(input())\n",
        "if A>0 or B>0 or C>0 :\n",
        "  print('true')\n",
        "else:\n",
        "     print('fulse')"
      ],
      "metadata": {
        "colab": {
          "base_uri": "https://localhost:8080/"
        },
        "id": "xNh9rBkP4u2D",
        "outputId": "d1490eea-e81b-48be-955d-125b626167e7"
      },
      "execution_count": 97,
      "outputs": [
        {
          "output_type": "stream",
          "name": "stdout",
          "text": [
            "-2\n",
            "40\n",
            "0\n",
            "true\n"
          ]
        }
      ]
    },
    {
      "cell_type": "markdown",
      "source": [
        "14"
      ],
      "metadata": {
        "id": "p2DPqD3r5L6-"
      }
    },
    {
      "cell_type": "code",
      "source": [
        "A=int(input())\n",
        "B=int(input())\n",
        "C=int(input())\n",
        "if (A>0) + (B>0) + (C>0) ==1 :\n",
        "  print ('true')\n",
        "else :\n",
        "  print('fuls')"
      ],
      "metadata": {
        "colab": {
          "base_uri": "https://localhost:8080/"
        },
        "id": "5dqsrqOE5MqA",
        "outputId": "a8817db5-addc-436b-b8c4-acaab3adc4d9"
      },
      "execution_count": 103,
      "outputs": [
        {
          "output_type": "stream",
          "name": "stdout",
          "text": [
            "-8\n",
            "-9\n",
            "1\n",
            "true\n"
          ]
        }
      ]
    },
    {
      "cell_type": "markdown",
      "source": [
        "15"
      ],
      "metadata": {
        "id": "47MKBOp27wZ4"
      }
    },
    {
      "cell_type": "code",
      "source": [
        "A=int(input())\n",
        "B=int(input())\n",
        "C=int(input())\n",
        "if (A>0) + (B>0) + (C>0) ==2 :\n",
        "  print ('true')\n",
        "else :\n",
        "  print('fuls')"
      ],
      "metadata": {
        "colab": {
          "base_uri": "https://localhost:8080/"
        },
        "id": "rXCPY1PU7xrm",
        "outputId": "83d3bf99-b21a-44c0-a34a-d33d3e2cd1c2"
      },
      "execution_count": 105,
      "outputs": [
        {
          "output_type": "stream",
          "name": "stdout",
          "text": [
            "9\n",
            "8\n",
            "-7\n",
            "true\n"
          ]
        }
      ]
    },
    {
      "cell_type": "markdown",
      "source": [
        "16"
      ],
      "metadata": {
        "id": "Dx0NaldK8GfL"
      }
    },
    {
      "cell_type": "code",
      "source": [
        "A=int(input())\n",
        "if 10<= A <=99 and A%2==0 :\n",
        "  print('true')\n",
        "else:\n",
        "  print('fulse')"
      ],
      "metadata": {
        "colab": {
          "base_uri": "https://localhost:8080/"
        },
        "id": "tAOG3Lyl8HL8",
        "outputId": "9e9d7492-4dd6-4ee8-b843-cb441a7eec93"
      },
      "execution_count": 113,
      "outputs": [
        {
          "output_type": "stream",
          "name": "stdout",
          "text": [
            "16\n",
            "true\n"
          ]
        }
      ]
    },
    {
      "cell_type": "markdown",
      "source": [
        "# 6"
      ],
      "metadata": {
        "id": "-igkWKzc9XUO"
      }
    },
    {
      "cell_type": "markdown",
      "source": [
        "4"
      ],
      "metadata": {
        "id": "QLFblIpX-uNb"
      }
    },
    {
      "cell_type": "code",
      "source": [
        "A=int(input())\n",
        "B=int(input())\n",
        "C=int(input())\n",
        "positiv=0\n",
        "if A>0:\n",
        "  positiv +=1\n",
        "if B>0:\n",
        "  positiv +=1\n",
        "if C>0:\n",
        "  positiv +=1\n",
        "print(positiv)\n",
        "\n",
        ""
      ],
      "metadata": {
        "colab": {
          "base_uri": "https://localhost:8080/"
        },
        "id": "ENPApWjT9Zut",
        "outputId": "a90806a0-f162-40fb-ff5b-dd89bd195536"
      },
      "execution_count": 115,
      "outputs": [
        {
          "output_type": "stream",
          "name": "stdout",
          "text": [
            "2\n",
            "3\n",
            "4\n",
            "3\n"
          ]
        }
      ]
    },
    {
      "cell_type": "markdown",
      "source": [
        "5"
      ],
      "metadata": {
        "id": "HaHFeXIf_bnG"
      }
    },
    {
      "cell_type": "code",
      "source": [
        "A=int(input())\n",
        "B=int(input())\n",
        "C=int(input())\n",
        "positiv=0\n",
        "negative=0\n",
        "if A>0:\n",
        "  positiv +=1\n",
        "elif A<0:\n",
        "    negative +=1\n",
        "if B>0:\n",
        "  positiv +=1\n",
        "elif B<0:\n",
        "    negative +=1\n",
        "if C>0:\n",
        "  positiv +=1\n",
        "elif C<0:\n",
        "    negative +=1\n",
        "print('positiv',positiv)\n",
        "print('negative',negative)"
      ],
      "metadata": {
        "colab": {
          "base_uri": "https://localhost:8080/"
        },
        "id": "FclXH3L3_cE5",
        "outputId": "073f6a00-7eed-4bed-a431-a3660e8066ef"
      },
      "execution_count": 120,
      "outputs": [
        {
          "output_type": "stream",
          "name": "stdout",
          "text": [
            "5\n",
            "9\n",
            "-4\n",
            "positiv 2\n",
            "negative 1\n"
          ]
        }
      ]
    },
    {
      "cell_type": "markdown",
      "source": [
        "6"
      ],
      "metadata": {
        "id": "rcdYFUoZAjwD"
      }
    },
    {
      "cell_type": "code",
      "source": [
        "A=int(input())\n",
        "B=int(input())\n",
        "if A>B:\n",
        "  print('largest', A)\n",
        "elif A<B:\n",
        "    print('largest',B)"
      ],
      "metadata": {
        "colab": {
          "base_uri": "https://localhost:8080/"
        },
        "id": "nR7Iqv29AkYg",
        "outputId": "c3c40c39-a82a-4ea8-a6e6-064a0a363486"
      },
      "execution_count": 122,
      "outputs": [
        {
          "output_type": "stream",
          "name": "stdout",
          "text": [
            "2\n",
            "3\n",
            "largest 3\n"
          ]
        }
      ]
    },
    {
      "cell_type": "markdown",
      "source": [
        "7"
      ],
      "metadata": {
        "id": "9miAo-N8BfG8"
      }
    },
    {
      "cell_type": "code",
      "source": [
        "A=int(input())\n",
        "B=int(input())\n",
        "if A > B :\n",
        "  print('smaller second num')\n",
        "elif A < B :\n",
        "   print('smaller first num')"
      ],
      "metadata": {
        "colab": {
          "base_uri": "https://localhost:8080/"
        },
        "id": "Sw2IAF0dBfqY",
        "outputId": "a90df1f5-b78d-4f30-9ffd-041f00f3e278"
      },
      "execution_count": 127,
      "outputs": [
        {
          "output_type": "stream",
          "name": "stdout",
          "text": [
            "3\n",
            "1\n",
            "smaller second num\n"
          ]
        }
      ]
    },
    {
      "cell_type": "markdown",
      "source": [
        "8"
      ],
      "metadata": {
        "id": "uyVUvQGVCxwt"
      }
    },
    {
      "cell_type": "code",
      "source": [
        "A=int(input())\n",
        "B=int(input())\n",
        "if A > B :\n",
        "  print('smaller',B)\n",
        "  print('largest', A)\n",
        "elif A < B :\n",
        "   print('smaller',A)\n",
        "   print('largest', B)"
      ],
      "metadata": {
        "colab": {
          "base_uri": "https://localhost:8080/"
        },
        "id": "8eQourZrDCRX",
        "outputId": "982d7f76-eee2-4312-e7a0-b410c2d1fae2"
      },
      "execution_count": 130,
      "outputs": [
        {
          "output_type": "stream",
          "name": "stdout",
          "text": [
            "4\n",
            "3\n",
            "smaller 3\n",
            "largest 4\n"
          ]
        }
      ]
    }
  ]
}