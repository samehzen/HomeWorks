{
  "nbformat": 4,
  "nbformat_minor": 0,
  "metadata": {
    "colab": {
      "provenance": [],
      "authorship_tag": "ABX9TyN8B+r5I61aHC/v8kJTe0pq",
      "include_colab_link": true
    },
    "kernelspec": {
      "name": "python3",
      "display_name": "Python 3"
    },
    "language_info": {
      "name": "python"
    }
  },
  "cells": [
    {
      "cell_type": "markdown",
      "metadata": {
        "id": "view-in-github",
        "colab_type": "text"
      },
      "source": [
        "<a href=\"https://colab.research.google.com/github/samehzen/HomeWorks/blob/main/%D0%BF%D0%BE%D0%B2%D1%82%D0%BE%D1%80%D0%B8%D0%BD%D1%8F.ipynb\" target=\"_parent\"><img src=\"https://colab.research.google.com/assets/colab-badge.svg\" alt=\"Open In Colab\"/></a>"
      ]
    },
    {
      "cell_type": "markdown",
      "source": [
        "# 3"
      ],
      "metadata": {
        "id": "hv2nsPv9hnuZ"
      }
    },
    {
      "cell_type": "markdown",
      "source": [
        "2"
      ],
      "metadata": {
        "id": "nq45lHQkvXGH"
      }
    },
    {
      "cell_type": "code",
      "source": [
        "a=float(input())\n",
        "if a>0 :\n",
        "  s=a**2\n",
        "  print(s)\n",
        "else:\n",
        "  print(none)\n"
      ],
      "metadata": {
        "colab": {
          "base_uri": "https://localhost:8080/"
        },
        "id": "4ZqUdQzfvZVS",
        "outputId": "1ac01eda-77e9-4d75-99f8-69547240637e"
      },
      "execution_count": null,
      "outputs": [
        {
          "output_type": "stream",
          "name": "stdout",
          "text": [
            "5\n",
            "25.0\n"
          ]
        }
      ]
    },
    {
      "cell_type": "markdown",
      "source": [
        "begin 8"
      ],
      "metadata": {
        "id": "ul_oXcEMhrNS"
      }
    },
    {
      "cell_type": "code",
      "source": [
        "def artithmetic_mean(a, b):\n",
        "    return (a + b) / 2\n",
        "    result = artithmetic_mean(num1, num2)\n",
        "print(result)\n"
      ],
      "metadata": {
        "colab": {
          "base_uri": "https://localhost:8080/"
        },
        "id": "pmy9_kgAiDk7",
        "outputId": "a3fe5f7a-fb6a-492e-ea96-b79b6e35f283"
      },
      "execution_count": null,
      "outputs": [
        {
          "output_type": "stream",
          "name": "stdout",
          "text": [
            "5.0\n"
          ]
        }
      ]
    },
    {
      "cell_type": "markdown",
      "source": [
        "begin 9"
      ],
      "metadata": {
        "id": "KIWAaxTlnNKc"
      }
    },
    {
      "cell_type": "code",
      "source": [
        "import math\n",
        "def g(a,b) :\n",
        "   if a<0 and b<0 :\n",
        "    return None\n",
        "    return math_sqrt(a*b)\n",
        "a=8\n",
        "b=0\n",
        "print(g(a,b))"
      ],
      "metadata": {
        "colab": {
          "base_uri": "https://localhost:8080/"
        },
        "id": "-xf9zJXTnOJy",
        "outputId": "86573fff-ac13-45f3-8495-b57556c6460d"
      },
      "execution_count": null,
      "outputs": [
        {
          "output_type": "stream",
          "name": "stdout",
          "text": [
            "None\n"
          ]
        }
      ]
    },
    {
      "cell_type": "markdown",
      "source": [
        "begin 10"
      ],
      "metadata": {
        "id": "CfadPQS-qvSW"
      }
    },
    {
      "cell_type": "code",
      "source": [
        "a= float(input())\n",
        "b= float(input())\n",
        "if a!=0 and b!=0 :\n",
        "  a2=a**2\n",
        "  b2=b**2\n",
        "  print(a2+b2)\n",
        "  print(a2-b2)\n",
        "  print(a2*b2)\n",
        "  print(a2/b2)\n",
        "else :\n",
        "  print(none)"
      ],
      "metadata": {
        "colab": {
          "base_uri": "https://localhost:8080/"
        },
        "id": "qMhRQihwqxY2",
        "outputId": "68bdf38f-b295-453e-f99b-267d27e7c38c"
      },
      "execution_count": null,
      "outputs": [
        {
          "output_type": "stream",
          "name": "stdout",
          "text": [
            "3\n",
            "5\n",
            "34.0\n",
            "-16.0\n",
            "225.0\n",
            "0.36\n"
          ]
        }
      ]
    },
    {
      "cell_type": "markdown",
      "source": [
        "begin 11"
      ],
      "metadata": {
        "id": "D30W-X2QuCJ2"
      }
    },
    {
      "cell_type": "code",
      "source": [
        "a= float(input())\n",
        "b= float(input())\n",
        "if a!=0 and b!=0 :\n",
        "  a_abs=abs(a)\n",
        "  b_abs=abs(b)\n",
        "  print(a_abs+b_abs)\n",
        "  print(a_abs-b_abs)\n",
        "  print(a_abs*b_abs)\n",
        "  print(a_abs/b_abs)\n",
        "else :\n",
        "  print(none)"
      ],
      "metadata": {
        "colab": {
          "base_uri": "https://localhost:8080/"
        },
        "id": "wqg6JgMOuFPN",
        "outputId": "fbf56814-7db1-471a-e6b0-80290d07301e"
      },
      "execution_count": null,
      "outputs": [
        {
          "output_type": "stream",
          "name": "stdout",
          "text": [
            "3\n",
            "5\n",
            "8.0\n",
            "-2.0\n",
            "15.0\n",
            "0.6\n"
          ]
        }
      ]
    },
    {
      "cell_type": "markdown",
      "source": [
        "# 4"
      ],
      "metadata": {
        "id": "YT84bgcXvymq"
      }
    },
    {
      "cell_type": "markdown",
      "source": [
        "10"
      ],
      "metadata": {
        "id": "c61AxjHKwZiB"
      }
    },
    {
      "cell_type": "code",
      "source": [
        "a=int(input())\n",
        "if 100<=abs(a)<=999 :\n",
        "    a1=abs(a)%10\n",
        "    a2=(abs(a)//10)%10\n",
        "    print(a1)\n",
        "    print(a2)\n",
        "else:\n",
        "  print(None)"
      ],
      "metadata": {
        "colab": {
          "base_uri": "https://localhost:8080/"
        },
        "id": "7qoVeS46wauH",
        "outputId": "59a35024-2b5d-4772-80e3-d4d51d78c671"
      },
      "execution_count": null,
      "outputs": [
        {
          "output_type": "stream",
          "name": "stdout",
          "text": [
            "555\n",
            "5\n",
            "5\n"
          ]
        }
      ]
    },
    {
      "cell_type": "markdown",
      "source": [
        "11"
      ],
      "metadata": {
        "id": "pWolakdaxxJP"
      }
    },
    {
      "cell_type": "code",
      "source": [
        "a=int(input())\n",
        "if 100<=abs(a)<=999 :\n",
        "    a1=abs(a)%10\n",
        "    a2=(abs(a)//10)%10\n",
        "    a3=abs(a)//100\n",
        "    sum=a1+a2+a3\n",
        "    dig=a1*a2*a3\n",
        "    print(a1)\n",
        "    print(a2)\n",
        "    print(a3)\n",
        "    print(sum)\n",
        "    print(dig)\n",
        "\n",
        "else:\n",
        "  print(None)"
      ],
      "metadata": {
        "colab": {
          "base_uri": "https://localhost:8080/"
        },
        "id": "x8TpWOu_xyOj",
        "outputId": "0b2d849c-8400-44e6-88ac-3b8bef163cbc"
      },
      "execution_count": null,
      "outputs": [
        {
          "output_type": "stream",
          "name": "stdout",
          "text": [
            "123\n",
            "3\n",
            "2\n",
            "1\n",
            "6\n",
            "6\n"
          ]
        }
      ]
    },
    {
      "cell_type": "markdown",
      "source": [
        "12"
      ],
      "metadata": {
        "id": "pLZpyz1wzMMH"
      }
    },
    {
      "cell_type": "code",
      "source": [
        "a=int(input())\n",
        "if 100<=abs(a)<=999 :\n",
        "  rev=str(abs(a))[::-1]\n",
        "  print(rev)"
      ],
      "metadata": {
        "colab": {
          "base_uri": "https://localhost:8080/"
        },
        "id": "MBBjMgkFzNHE",
        "outputId": "641a6fe9-a29b-41ab-c7a3-d97d8a00acd1"
      },
      "execution_count": null,
      "outputs": [
        {
          "output_type": "stream",
          "name": "stdout",
          "text": [
            "887\n",
            "788\n"
          ]
        }
      ]
    },
    {
      "cell_type": "markdown",
      "source": [
        "13"
      ],
      "metadata": {
        "id": "gG5k_qk-0J9o"
      }
    },
    {
      "cell_type": "code",
      "source": [
        "a=int(input())\n",
        "if 100<=abs(a)<=999 :\n",
        "   a3=abs(a)//100\n",
        "   a1=abs(a)%100\n",
        "   new=a1*10+a3\n",
        "   print(new)\n"
      ],
      "metadata": {
        "colab": {
          "base_uri": "https://localhost:8080/"
        },
        "id": "0gFs8DeK0K1d",
        "outputId": "e078f737-99e6-4670-a1d4-2f4741ecfea6"
      },
      "execution_count": null,
      "outputs": [
        {
          "output_type": "stream",
          "name": "stdout",
          "text": [
            "123\n",
            "231\n"
          ]
        }
      ]
    },
    {
      "cell_type": "markdown",
      "source": [
        "14"
      ],
      "metadata": {
        "id": "G4iXpnrY1jZ8"
      }
    },
    {
      "cell_type": "code",
      "source": [
        "a=int(input())\n",
        "if 100<=abs(a)<=999 :\n",
        "   a1=abs(a)//10\n",
        "   a2=abs(a)%10\n",
        "   new=a2*100+a1\n",
        "   print(new)"
      ],
      "metadata": {
        "colab": {
          "base_uri": "https://localhost:8080/"
        },
        "id": "51h18A_J1kLW",
        "outputId": "a9733d18-43e1-4d13-9dfd-2c4825d83264"
      },
      "execution_count": null,
      "outputs": [
        {
          "output_type": "stream",
          "name": "stdout",
          "text": [
            "123\n",
            "312\n"
          ]
        }
      ]
    },
    {
      "cell_type": "markdown",
      "source": [
        "# 5"
      ],
      "metadata": {
        "id": "Pd94DyP52l5T"
      }
    },
    {
      "cell_type": "markdown",
      "source": [
        "12"
      ],
      "metadata": {
        "id": "y4w3PDO74so5"
      }
    },
    {
      "cell_type": "code",
      "source": [
        "A=int(input())\n",
        "B=int(input())\n",
        "C=int(input())\n",
        "if A>0 and B>0 and C>0 :\n",
        "  print('true')\n",
        "else:\n",
        "     print('fulse')"
      ],
      "metadata": {
        "colab": {
          "base_uri": "https://localhost:8080/"
        },
        "id": "yNRZS_EP2nwC",
        "outputId": "a082e08d-5020-42ac-bea6-276336258aa0"
      },
      "execution_count": null,
      "outputs": [
        {
          "output_type": "stream",
          "name": "stdout",
          "text": [
            "5\n",
            "0\n",
            "5\n",
            "fulse\n"
          ]
        }
      ]
    },
    {
      "cell_type": "markdown",
      "source": [
        "13"
      ],
      "metadata": {
        "id": "3_nHN7dA4uM9"
      }
    },
    {
      "cell_type": "code",
      "source": [
        "A=int(input())\n",
        "B=int(input())\n",
        "C=int(input())\n",
        "if A>0 or B>0 or C>0 :\n",
        "  print('true')\n",
        "else:\n",
        "     print('fulse')"
      ],
      "metadata": {
        "colab": {
          "base_uri": "https://localhost:8080/"
        },
        "id": "xNh9rBkP4u2D",
        "outputId": "d1490eea-e81b-48be-955d-125b626167e7"
      },
      "execution_count": null,
      "outputs": [
        {
          "output_type": "stream",
          "name": "stdout",
          "text": [
            "-2\n",
            "40\n",
            "0\n",
            "true\n"
          ]
        }
      ]
    },
    {
      "cell_type": "markdown",
      "source": [
        "14"
      ],
      "metadata": {
        "id": "p2DPqD3r5L6-"
      }
    },
    {
      "cell_type": "code",
      "source": [
        "A=int(input())\n",
        "B=int(input())\n",
        "C=int(input())\n",
        "if (A>0) + (B>0) + (C>0) ==1 :\n",
        "  print ('true')\n",
        "else :\n",
        "  print('fuls')"
      ],
      "metadata": {
        "colab": {
          "base_uri": "https://localhost:8080/"
        },
        "id": "5dqsrqOE5MqA",
        "outputId": "a8817db5-addc-436b-b8c4-acaab3adc4d9"
      },
      "execution_count": null,
      "outputs": [
        {
          "output_type": "stream",
          "name": "stdout",
          "text": [
            "-8\n",
            "-9\n",
            "1\n",
            "true\n"
          ]
        }
      ]
    },
    {
      "cell_type": "markdown",
      "source": [
        "15"
      ],
      "metadata": {
        "id": "47MKBOp27wZ4"
      }
    },
    {
      "cell_type": "code",
      "source": [
        "A=int(input())\n",
        "B=int(input())\n",
        "C=int(input())\n",
        "if (A>0) + (B>0) + (C>0) ==2 :\n",
        "  print ('true')\n",
        "else :\n",
        "  print('fuls')"
      ],
      "metadata": {
        "colab": {
          "base_uri": "https://localhost:8080/"
        },
        "id": "rXCPY1PU7xrm",
        "outputId": "83d3bf99-b21a-44c0-a34a-d33d3e2cd1c2"
      },
      "execution_count": null,
      "outputs": [
        {
          "output_type": "stream",
          "name": "stdout",
          "text": [
            "9\n",
            "8\n",
            "-7\n",
            "true\n"
          ]
        }
      ]
    },
    {
      "cell_type": "markdown",
      "source": [
        "16"
      ],
      "metadata": {
        "id": "Dx0NaldK8GfL"
      }
    },
    {
      "cell_type": "code",
      "source": [
        "A=int(input())\n",
        "if 10<= A <=99 and A%2==0 :\n",
        "  print('true')\n",
        "else:\n",
        "  print('fulse')"
      ],
      "metadata": {
        "colab": {
          "base_uri": "https://localhost:8080/"
        },
        "id": "tAOG3Lyl8HL8",
        "outputId": "9e9d7492-4dd6-4ee8-b843-cb441a7eec93"
      },
      "execution_count": null,
      "outputs": [
        {
          "output_type": "stream",
          "name": "stdout",
          "text": [
            "16\n",
            "true\n"
          ]
        }
      ]
    },
    {
      "cell_type": "markdown",
      "source": [
        "# 6"
      ],
      "metadata": {
        "id": "-igkWKzc9XUO"
      }
    },
    {
      "cell_type": "markdown",
      "source": [
        "4"
      ],
      "metadata": {
        "id": "QLFblIpX-uNb"
      }
    },
    {
      "cell_type": "code",
      "source": [
        "A=int(input())\n",
        "B=int(input())\n",
        "C=int(input())\n",
        "positiv=0\n",
        "if A>0:\n",
        "  positiv +=1\n",
        "if B>0:\n",
        "  positiv +=1\n",
        "if C>0:\n",
        "  positiv +=1\n",
        "print(positiv)\n",
        "\n"
      ],
      "metadata": {
        "colab": {
          "base_uri": "https://localhost:8080/"
        },
        "id": "ENPApWjT9Zut",
        "outputId": "a90806a0-f162-40fb-ff5b-dd89bd195536"
      },
      "execution_count": null,
      "outputs": [
        {
          "output_type": "stream",
          "name": "stdout",
          "text": [
            "2\n",
            "3\n",
            "4\n",
            "3\n"
          ]
        }
      ]
    },
    {
      "cell_type": "markdown",
      "source": [
        "5"
      ],
      "metadata": {
        "id": "HaHFeXIf_bnG"
      }
    },
    {
      "cell_type": "code",
      "source": [
        "A=int(input())\n",
        "B=int(input())\n",
        "C=int(input())\n",
        "positiv=0\n",
        "negative=0\n",
        "if A>0:\n",
        "  positiv +=1\n",
        "elif A<0:\n",
        "    negative +=1\n",
        "if B>0:\n",
        "  positiv +=1\n",
        "elif B<0:\n",
        "    negative +=1\n",
        "if C>0:\n",
        "  positiv +=1\n",
        "elif C<0:\n",
        "    negative +=1\n",
        "print('positiv',positiv)\n",
        "print('negative',negative)"
      ],
      "metadata": {
        "colab": {
          "base_uri": "https://localhost:8080/"
        },
        "id": "FclXH3L3_cE5",
        "outputId": "073f6a00-7eed-4bed-a431-a3660e8066ef"
      },
      "execution_count": null,
      "outputs": [
        {
          "output_type": "stream",
          "name": "stdout",
          "text": [
            "5\n",
            "9\n",
            "-4\n",
            "positiv 2\n",
            "negative 1\n"
          ]
        }
      ]
    },
    {
      "cell_type": "markdown",
      "source": [
        "6"
      ],
      "metadata": {
        "id": "rcdYFUoZAjwD"
      }
    },
    {
      "cell_type": "code",
      "source": [
        "A=int(input())\n",
        "B=int(input())\n",
        "if A>B:\n",
        "  print('largest', A)\n",
        "elif A<B:\n",
        "    print('largest',B)"
      ],
      "metadata": {
        "colab": {
          "base_uri": "https://localhost:8080/"
        },
        "id": "nR7Iqv29AkYg",
        "outputId": "c3c40c39-a82a-4ea8-a6e6-064a0a363486"
      },
      "execution_count": null,
      "outputs": [
        {
          "output_type": "stream",
          "name": "stdout",
          "text": [
            "2\n",
            "3\n",
            "largest 3\n"
          ]
        }
      ]
    },
    {
      "cell_type": "markdown",
      "source": [
        "7"
      ],
      "metadata": {
        "id": "9miAo-N8BfG8"
      }
    },
    {
      "cell_type": "code",
      "source": [
        "A=int(input())\n",
        "B=int(input())\n",
        "if A > B :\n",
        "  print('smaller second num')\n",
        "elif A < B :\n",
        "   print('smaller first num')"
      ],
      "metadata": {
        "colab": {
          "base_uri": "https://localhost:8080/"
        },
        "id": "Sw2IAF0dBfqY",
        "outputId": "a90df1f5-b78d-4f30-9ffd-041f00f3e278"
      },
      "execution_count": null,
      "outputs": [
        {
          "output_type": "stream",
          "name": "stdout",
          "text": [
            "3\n",
            "1\n",
            "smaller second num\n"
          ]
        }
      ]
    },
    {
      "cell_type": "markdown",
      "source": [
        "8"
      ],
      "metadata": {
        "id": "uyVUvQGVCxwt"
      }
    },
    {
      "cell_type": "code",
      "source": [
        "A=int(input())\n",
        "B=int(input())\n",
        "if A > B :\n",
        "  print('smaller',B)\n",
        "  print('largest', A)\n",
        "elif A < B :\n",
        "   print('smaller',A)\n",
        "   print('largest', B)"
      ],
      "metadata": {
        "colab": {
          "base_uri": "https://localhost:8080/"
        },
        "id": "8eQourZrDCRX",
        "outputId": "982d7f76-eee2-4312-e7a0-b410c2d1fae2"
      },
      "execution_count": null,
      "outputs": [
        {
          "output_type": "stream",
          "name": "stdout",
          "text": [
            "4\n",
            "3\n",
            "smaller 3\n",
            "largest 4\n"
          ]
        }
      ]
    },
    {
      "cell_type": "markdown",
      "source": [
        "# 7"
      ],
      "metadata": {
        "id": "qGSutOxsDQ4R"
      }
    },
    {
      "cell_type": "markdown",
      "source": [
        "1"
      ],
      "metadata": {
        "id": "O5Tfz7fAI8Tn"
      }
    },
    {
      "cell_type": "code",
      "source": [
        "n = str(input(\"Введите число из диапазона 1-7: \"))\n",
        "week_days = {\n",
        "    '1': 'понедельник',\n",
        "    '2': 'вторник',\n",
        "    '3': 'среда',\n",
        "    '4': 'четверг',\n",
        "    '5': 'пятница',\n",
        "    '6': 'суббота',\n",
        "    '7': 'воскресенье'\n",
        "}\n",
        "print(week_days[n])"
      ],
      "metadata": {
        "id": "Cg8aj-NMDSE6",
        "outputId": "ed9b30a0-10d5-425a-c8d1-51b8b228f8a5",
        "colab": {
          "base_uri": "https://localhost:8080/"
        }
      },
      "execution_count": 1,
      "outputs": [
        {
          "output_type": "stream",
          "name": "stdout",
          "text": [
            "Введите число из диапазона 1-7: 2\n",
            "вторник\n"
          ]
        }
      ]
    },
    {
      "cell_type": "markdown",
      "source": [
        "2"
      ],
      "metadata": {
        "id": "bVrMOHYvI47t"
      }
    },
    {
      "cell_type": "code",
      "source": [
        "K = int(input())\n",
        "if K == 1:\n",
        "    print(\"плохо\")\n",
        "elif K == 2:\n",
        "    print(\"неудовлетворительно\")\n",
        "elif K == 3:\n",
        "    print(\"удовлетворительно\")\n",
        "elif K == 4:\n",
        "    print(\"хорошо\")\n",
        "elif K == 5:\n",
        "    print(\"отлично\")\n",
        "else:\n",
        "    print(\"ошибка\")\n"
      ],
      "metadata": {
        "id": "yUuDHL7dJOFT",
        "outputId": "e4508ce8-7990-4f57-bcca-7031098ff9f4",
        "colab": {
          "base_uri": "https://localhost:8080/"
        }
      },
      "execution_count": 6,
      "outputs": [
        {
          "output_type": "stream",
          "name": "stdout",
          "text": [
            "5\n",
            "отлично\n"
          ]
        }
      ]
    },
    {
      "cell_type": "markdown",
      "source": [
        "3"
      ],
      "metadata": {
        "id": "6IMGQWxsLEZR"
      }
    },
    {
      "cell_type": "code",
      "source": [
        "month = int(input())\n",
        "\n",
        "if month == 12 or month == 1 or month == 2:\n",
        "    print(\"зима\")\n",
        "elif month == 3 or month == 4 or month == 5:\n",
        "    print(\"весна\")\n",
        "elif month == 6 or month == 7 or month == 8:\n",
        "    print(\"лето\")\n",
        "elif month == 9 or month == 10 or month == 11:\n",
        "    print(\"осень\")\n",
        "else:\n",
        "    print(\"ошибка\")\n"
      ],
      "metadata": {
        "id": "FL0TSfkBLFEY",
        "outputId": "f9952646-fa5a-4387-9f3f-3106d71b97b8",
        "colab": {
          "base_uri": "https://localhost:8080/"
        }
      },
      "execution_count": 7,
      "outputs": [
        {
          "output_type": "stream",
          "name": "stdout",
          "text": [
            "6\n",
            "лето\n"
          ]
        }
      ]
    },
    {
      "cell_type": "markdown",
      "source": [
        "4"
      ],
      "metadata": {
        "id": "ds2U6wkLMDrX"
      }
    },
    {
      "cell_type": "code",
      "source": [
        "month = int(input(\"Введите номер месяца (1-12): \"))\n",
        "def days_in_month(month):\n",
        "\n",
        "    months_31 = {1, 3, 5, 7, 8, 10, 12}\n",
        "\n",
        "    months_30 = {4, 6, 9, 11}\n",
        "\n",
        "\n",
        "    if month in months_31:\n",
        "        return 31\n",
        "    elif month in months_30:\n",
        "        return 30\n",
        "    elif month == 2:\n",
        "        return 28\n",
        "    else:\n",
        "        return \"Неверный месяц\"\n",
        "\n",
        "print(\"Количество дней в этом месяце:\", days_in_month(month))\n"
      ],
      "metadata": {
        "id": "xVTtUu-5MET8",
        "outputId": "744fd2ff-2a9e-454b-878d-461189514b69",
        "colab": {
          "base_uri": "https://localhost:8080/"
        }
      },
      "execution_count": 13,
      "outputs": [
        {
          "output_type": "stream",
          "name": "stdout",
          "text": [
            "Введите номер месяца (1-12): 6\n",
            "Количество дней в этом месяце: 30\n"
          ]
        }
      ]
    },
    {
      "cell_type": "markdown",
      "source": [
        "15"
      ],
      "metadata": {
        "id": "Qm08GjyXNpF3"
      }
    },
    {
      "cell_type": "code",
      "source": [
        "N = int(input(\"Введите достоинство карты (6≤N≤14): \"))\n",
        "M = int(input(\"Введите масть карты (1≤M≤4): \"))\n",
        "def card_name(N, M):\n",
        "\n",
        "    rank = {11: 'валет', 12: 'дама', 13: 'король', 14: 'туз'}\n",
        "    if N < 11:\n",
        "        rank_str = str(N)\n",
        "    else:\n",
        "        rank_str = rank[N]\n",
        "\n",
        "    suit = {1: 'пики', 2: 'трефы', 3: 'бубны', 4: 'червы'}\n",
        "\n",
        "    suit_str = suit[M]\n",
        "\n",
        "    return f\"{rank_str} {suit_str}\"\n",
        "\n",
        "\n",
        "print(card_name(N, M))\n"
      ],
      "metadata": {
        "id": "kgRyr3dCNppN",
        "outputId": "9d726735-8d7a-4526-a70c-952cef1f26cb",
        "colab": {
          "base_uri": "https://localhost:8080/"
        }
      },
      "execution_count": 36,
      "outputs": [
        {
          "output_type": "stream",
          "name": "stdout",
          "text": [
            "Введите достоинство карты (6≤N≤14): 8\n",
            "Введите масть карты (1≤M≤4): 2\n",
            "8 трефы\n"
          ]
        }
      ]
    },
    {
      "cell_type": "markdown",
      "source": [
        "# 8"
      ],
      "metadata": {
        "id": "uvn1r12EVCRe"
      }
    },
    {
      "cell_type": "markdown",
      "source": [
        "1"
      ],
      "metadata": {
        "id": "ODP7iomqVGtJ"
      }
    },
    {
      "cell_type": "code",
      "source": [
        "K = int(input(\"K: \"))\n",
        "N = int(input(\" N: \"))\n",
        "\n",
        "\n",
        "for _ in range(N):\n",
        "    print(K)\n"
      ],
      "metadata": {
        "id": "ZI5bZ7HmVHNO",
        "outputId": "0c7c02fb-4999-4114-bc8f-bfaeaaab747f",
        "colab": {
          "base_uri": "https://localhost:8080/"
        }
      },
      "execution_count": 37,
      "outputs": [
        {
          "output_type": "stream",
          "name": "stdout",
          "text": [
            "K: 5\n",
            " N: 4\n",
            "5\n",
            "5\n",
            "5\n",
            "5\n"
          ]
        }
      ]
    },
    {
      "cell_type": "markdown",
      "source": [
        "2"
      ],
      "metadata": {
        "id": "b8HJadzQawQI"
      }
    },
    {
      "cell_type": "code",
      "source": [
        "\n",
        "A = int(input(\"Введите число A: \"))\n",
        "B = int(input(\"Введите число B: \"))\n",
        "count = 0\n",
        "\n",
        "\n",
        "for number in range(A, B + 1):\n",
        "    print(number, end=\" \")\n",
        "    count += 1\n",
        "\n",
        "\n",
        "print(\"\\nКоличество чисел:\", count)\n"
      ],
      "metadata": {
        "id": "Y-D--ljAaw4Y",
        "outputId": "757870f6-c704-49e2-b257-075a20ba09c5",
        "colab": {
          "base_uri": "https://localhost:8080/"
        }
      },
      "execution_count": 39,
      "outputs": [
        {
          "output_type": "stream",
          "name": "stdout",
          "text": [
            "Введите число A: 58\n",
            "Введите число B: 62\n",
            "58 59 60 61 62 \n",
            "Количество чисел: 5\n"
          ]
        }
      ]
    },
    {
      "cell_type": "markdown",
      "source": [
        "3"
      ],
      "metadata": {
        "id": "_aYB8cB0bqF7"
      }
    },
    {
      "cell_type": "code",
      "source": [
        "A = int(input())\n",
        "B = int(input())\n",
        "\n",
        "count = 0\n",
        "for number in range(B - 1, A, -1):\n",
        "\n",
        "    print(number, end=\" \")\n",
        "    count += 1\n",
        "\n",
        "print(count)\n"
      ],
      "metadata": {
        "id": "hHCcrh2Kbqly",
        "outputId": "6deb8304-26d6-41f5-b39d-4a78367dfd6a",
        "colab": {
          "base_uri": "https://localhost:8080/"
        }
      },
      "execution_count": 48,
      "outputs": [
        {
          "output_type": "stream",
          "name": "stdout",
          "text": [
            "88\n",
            "99\n",
            "98 97 96 95 94 93 92 91 90 89 10\n"
          ]
        }
      ]
    },
    {
      "cell_type": "markdown",
      "source": [
        "4"
      ],
      "metadata": {
        "id": "a3QI7A_3cyi8"
      }
    },
    {
      "cell_type": "code",
      "source": [
        "price_per_kg = float(input())\n",
        "for i in range(1, 11):\n",
        "    print(f\"{i} кг конфет: {price_per_kg * i:.2f}\")\n"
      ],
      "metadata": {
        "id": "mru_Wj9DczLG",
        "outputId": "13facc3c-c419-4452-afe6-114bbdac70aa",
        "colab": {
          "base_uri": "https://localhost:8080/"
        }
      },
      "execution_count": 53,
      "outputs": [
        {
          "output_type": "stream",
          "name": "stdout",
          "text": [
            "5\n",
            "1 кг конфет: 5.00\n",
            "2 кг конфет: 10.00\n",
            "3 кг конфет: 15.00\n",
            "4 кг конфет: 20.00\n",
            "5 кг конфет: 25.00\n",
            "6 кг конфет: 30.00\n",
            "7 кг конфет: 35.00\n",
            "8 кг конфет: 40.00\n",
            "9 кг конфет: 45.00\n",
            "10 кг конфет: 50.00\n"
          ]
        }
      ]
    },
    {
      "cell_type": "markdown",
      "source": [
        "5"
      ],
      "metadata": {
        "id": "MwgwJny-dbh5"
      }
    },
    {
      "cell_type": "code",
      "source": [
        "\n",
        "price_per_kg = float(input(\"Введите цену за 1 кг конфет: \"))\n",
        "\n",
        "for i in range(1, 11):\n",
        "    weight = i / 10\n",
        "    total_price = price_per_kg * weight\n",
        "    print(f\"Стоимость {weight} кг конфет: {total_price:.2f}\")\n"
      ],
      "metadata": {
        "id": "W4r-XUBRddai",
        "outputId": "7b48c6a0-4357-4538-c7bb-54f2fee469e7",
        "colab": {
          "base_uri": "https://localhost:8080/"
        }
      },
      "execution_count": 54,
      "outputs": [
        {
          "output_type": "stream",
          "name": "stdout",
          "text": [
            "Введите цену за 1 кг конфет: 5\n",
            "Стоимость 0.1 кг конфет: 0.50\n",
            "Стоимость 0.2 кг конфет: 1.00\n",
            "Стоимость 0.3 кг конфет: 1.50\n",
            "Стоимость 0.4 кг конфет: 2.00\n",
            "Стоимость 0.5 кг конфет: 2.50\n",
            "Стоимость 0.6 кг конфет: 3.00\n",
            "Стоимость 0.7 кг конфет: 3.50\n",
            "Стоимость 0.8 кг конфет: 4.00\n",
            "Стоимость 0.9 кг конфет: 4.50\n",
            "Стоимость 1.0 кг конфет: 5.00\n"
          ]
        }
      ]
    },
    {
      "cell_type": "markdown",
      "source": [
        "# 9"
      ],
      "metadata": {
        "id": "tZO7BDqHeCCP"
      }
    },
    {
      "cell_type": "markdown",
      "source": [
        "1"
      ],
      "metadata": {
        "id": "3kfUt2Z5erWq"
      }
    },
    {
      "cell_type": "code",
      "source": [
        "\n",
        "A = float(input(\"Введите длину отрезка A: \"))\n",
        "B = float(input(\"Введите длину отрезка B: \"))\n",
        "\n",
        "count = 0\n",
        "r = A\n",
        "\n",
        "while r >= B:\n",
        "    r -= B\n",
        "    count += 1\n",
        "\n",
        "\n",
        "print(f\"Длина незанятой части отрезка A: {r:.2f}\")\n"
      ],
      "metadata": {
        "id": "yzVHcMmvesJC",
        "outputId": "bc9f07c1-c638-4db9-9a4a-a22089441920",
        "colab": {
          "base_uri": "https://localhost:8080/"
        }
      },
      "execution_count": 56,
      "outputs": [
        {
          "output_type": "stream",
          "name": "stdout",
          "text": [
            "Введите длину отрезка A: 10\n",
            "Введите длину отрезка B: 1.5\n",
            "Длина незанятой части отрезка A: 1.00\n"
          ]
        }
      ]
    },
    {
      "cell_type": "markdown",
      "source": [
        "2"
      ],
      "metadata": {
        "id": "M73Dr3b7fwRT"
      }
    },
    {
      "cell_type": "code",
      "source": [
        "\n",
        "A = float(input(\"Введите длину отрезка A: \"))\n",
        "B = float(input(\"Введите длину отрезка B: \"))\n",
        "\n",
        "count = 0\n",
        "\n",
        "\n",
        "while A >= B:\n",
        "    A -= B\n",
        "    count += 1\n",
        "print(f\"Количество отрезков B, размещенных на отрезке A: {count}\")\n"
      ],
      "metadata": {
        "id": "9HeyzYsffw2g",
        "outputId": "76c003d2-38c7-4668-ecda-2311fb791e1c",
        "colab": {
          "base_uri": "https://localhost:8080/"
        }
      },
      "execution_count": 58,
      "outputs": [
        {
          "output_type": "stream",
          "name": "stdout",
          "text": [
            "Введите длину отрезка A: 10\n",
            "Введите длину отрезка B: 2\n",
            "Количество отрезков B, размещенных на отрезке A: 5\n"
          ]
        }
      ]
    },
    {
      "cell_type": "markdown",
      "source": [
        "3"
      ],
      "metadata": {
        "id": "TopxH69Hf__4"
      }
    },
    {
      "cell_type": "code",
      "source": [
        "\n",
        "N = int(input(\"  N: \"))\n",
        "K = int(input(\"  K: \"))\n",
        "\n",
        "quotient = 0\n",
        "remainder = N\n",
        "\n",
        "while remainder >= K:\n",
        "    remainder -= K\n",
        "    quotient += 1\n",
        "\n",
        "print(f\"  N quotient K: {quotient}\")\n",
        "print(f\"  N remainder K: {remainder}\")\n"
      ],
      "metadata": {
        "id": "EAMx8TIIgAgZ",
        "outputId": "9bd8759e-aeb0-427f-b764-5a42b950cb56",
        "colab": {
          "base_uri": "https://localhost:8080/"
        }
      },
      "execution_count": 59,
      "outputs": [
        {
          "output_type": "stream",
          "name": "stdout",
          "text": [
            "  N: 10\n",
            "  K: 2\n",
            "  N quotient K: 5\n",
            "  N remainder K: 0\n"
          ]
        }
      ]
    },
    {
      "cell_type": "markdown",
      "source": [
        "4"
      ],
      "metadata": {
        "id": "uqPlD2YUgq9d"
      }
    },
    {
      "cell_type": "code",
      "source": [
        "\n",
        "N = int(input(\"  N: \"))\n",
        "\n",
        "while N > 1:\n",
        "    if N % 3 != 0:\n",
        "        print(\"FALSE\")\n",
        "        break\n",
        "    N //= 3\n",
        "\n",
        "if N == 1:\n",
        "    print(\"TRUE\")\n"
      ],
      "metadata": {
        "id": "i4qQMUXVgrel",
        "outputId": "c6170950-4863-47e4-c9ef-bfb906799e84",
        "colab": {
          "base_uri": "https://localhost:8080/"
        }
      },
      "execution_count": 63,
      "outputs": [
        {
          "output_type": "stream",
          "name": "stdout",
          "text": [
            "  N: 3\n",
            "TRUE\n"
          ]
        }
      ]
    },
    {
      "cell_type": "markdown",
      "source": [
        "5"
      ],
      "metadata": {
        "id": "DzH_PZhYhiJV"
      }
    },
    {
      "cell_type": "code",
      "source": [
        "N = int(input(\"Введите число N: \"))\n",
        "\n",
        "if N & (N - 1) == 0 and N > 0:\n",
        "    K = 0\n",
        "    while N > 1:\n",
        "        N >>= 1\n",
        "        K += 1\n",
        "    print(f\"Показатель степени K: {K}\")\n",
        "else:\n",
        "    print(\"Число N не является степенью 2\")\n",
        "\n"
      ],
      "metadata": {
        "id": "v7SALeBRhin9",
        "outputId": "41eed8e2-72c9-4b4c-99b4-27456eaa08d9",
        "colab": {
          "base_uri": "https://localhost:8080/"
        }
      },
      "execution_count": 74,
      "outputs": [
        {
          "output_type": "stream",
          "name": "stdout",
          "text": [
            "Введите число N: 2\n",
            "Показатель степени K: 1\n"
          ]
        }
      ]
    },
    {
      "cell_type": "markdown",
      "source": [
        "# 10"
      ],
      "metadata": {
        "id": "AWj7Zp8BkBMr"
      }
    },
    {
      "cell_type": "markdown",
      "source": [
        "1"
      ],
      "metadata": {
        "id": "xRzHwTqyklk_"
      }
    },
    {
      "cell_type": "code",
      "source": [
        "sum = 0.0\n",
        "for i in range(10):\n",
        "    number = float(input(f\"Введите вещественное число {i+1}: \"))\n",
        "    sum += number\n",
        "\n",
        "\n",
        "print(f\"Сумма введенных чисел: {sum}\")\n"
      ],
      "metadata": {
        "id": "28JthQbakmFB",
        "outputId": "0b23ae4a-1945-40e4-afe7-33370be2af4a",
        "colab": {
          "base_uri": "https://localhost:8080/"
        }
      },
      "execution_count": 83,
      "outputs": [
        {
          "output_type": "stream",
          "name": "stdout",
          "text": [
            "Введите вещественное число 1: 3\n",
            "Введите вещественное число 2: 3\n",
            "Введите вещественное число 3: 3\n",
            "Введите вещественное число 4: 3\n",
            "Введите вещественное число 5: 3\n",
            "Введите вещественное число 6: 3\n",
            "Введите вещественное число 7: 3\n",
            "Введите вещественное число 8: 3\n",
            "Введите вещественное число 9: 3\n",
            "Введите вещественное число 10: 3\n",
            "Сумма введенных чисел: 30.0\n"
          ]
        }
      ]
    },
    {
      "cell_type": "markdown",
      "source": [
        "2"
      ],
      "metadata": {
        "id": "rmUIVwJylbXV"
      }
    },
    {
      "cell_type": "code",
      "source": [
        "p = 1.0\n",
        "\n",
        "# Ввод десяти вещественных чисел и вычисление их произведения\n",
        "for i in range(10):\n",
        "    number = float(input(f\"Введите вещественное число {i+1}: \"))\n",
        "    p *= number  # Умножаем текущее число на произведение\n",
        "\n",
        "# Выводим результат\n",
        "print(f\"Произведение введенных чисел: {p}\")\n"
      ],
      "metadata": {
        "id": "JVburV82lb-H",
        "outputId": "e6be9e20-b6e8-4504-9a02-8755a9abc956",
        "colab": {
          "base_uri": "https://localhost:8080/"
        }
      },
      "execution_count": 86,
      "outputs": [
        {
          "output_type": "stream",
          "name": "stdout",
          "text": [
            "Введите вещественное число 1: 1\n",
            "Введите вещественное число 2: 2\n",
            "Введите вещественное число 3: 3\n",
            "Введите вещественное число 4: 2\n",
            "Введите вещественное число 5: 3\n",
            "Введите вещественное число 6: 5\n",
            "Введите вещественное число 7: 1\n",
            "Введите вещественное число 8: 5\n",
            "Введите вещественное число 9: 8\n",
            "Введите вещественное число 10: 0\n",
            "Произведение введенных чисел: 0.0\n"
          ]
        }
      ]
    },
    {
      "cell_type": "markdown",
      "source": [
        "3"
      ],
      "metadata": {
        "id": "AzgCq1aDmM-C"
      }
    },
    {
      "cell_type": "code",
      "source": [
        "total_sum = 0.0\n",
        "\n",
        "for i in range(10):\n",
        "    number = float(input(f\"Введите вещественное число {i+1}: \"))\n",
        "    total_sum += number\n",
        "\n",
        "average = total_sum / 10\n",
        "print(f\"Среднее арифметическое введенных чисел: {average}\")\n"
      ],
      "metadata": {
        "id": "HjjyS-JMmNnM",
        "outputId": "5ead0f4e-21ae-4565-ef5e-08b799b048fc",
        "colab": {
          "base_uri": "https://localhost:8080/"
        }
      },
      "execution_count": 88,
      "outputs": [
        {
          "output_type": "stream",
          "name": "stdout",
          "text": [
            "Введите вещественное число 1: 5\n",
            "Введите вещественное число 2: 5\n",
            "Введите вещественное число 3: 5\n",
            "Введите вещественное число 4: 5\n",
            "Введите вещественное число 5: 5\n",
            "Введите вещественное число 6: 5\n",
            "Введите вещественное число 7: 5\n",
            "Введите вещественное число 8: 5\n",
            "Введите вещественное число 9: 5\n",
            "Введите вещественное число 10: 5\n",
            "Среднее арифметическое введенных чисел: 5.0\n"
          ]
        }
      ]
    },
    {
      "cell_type": "markdown",
      "source": [
        "4"
      ],
      "metadata": {
        "id": "0iVqdz5xmfMR"
      }
    },
    {
      "cell_type": "code",
      "source": [
        "N = int(input(\"Введите количество чисел N: \"))\n",
        "\n",
        "sum = 0.0\n",
        "p = 1.0\n",
        "\n",
        "for i in range(N):\n",
        "    number = float(input(f\"Введите вещественное число {i+1}: \"))\n",
        "    sum += number\n",
        "    p *= number\n",
        "\n",
        "print(f\"Сумма введенных чисел: {sum}\")\n",
        "print(f\"Произведение введенных чисел: {p}\")\n"
      ],
      "metadata": {
        "id": "CMoyb8wsmfoz",
        "outputId": "bd3cd2f7-b95b-4c0f-aa93-e3a62e312aa9",
        "colab": {
          "base_uri": "https://localhost:8080/"
        }
      },
      "execution_count": 89,
      "outputs": [
        {
          "output_type": "stream",
          "name": "stdout",
          "text": [
            "Введите количество чисел N: 5\n",
            "Введите вещественное число 1: 4\n",
            "Введите вещественное число 2: 5\n",
            "Введите вещественное число 3: 2\n",
            "Введите вещественное число 4: 1\n",
            "Введите вещественное число 5: 4\n",
            "Сумма введенных чисел: 16.0\n",
            "Произведение введенных чисел: 160.0\n"
          ]
        }
      ]
    },
    {
      "cell_type": "markdown",
      "source": [
        "10"
      ],
      "metadata": {
        "id": "E3UI5hK4nDP2"
      }
    },
    {
      "cell_type": "code",
      "source": [
        "N = int(input(\"Введите количество чисел N: \"))\n",
        "\n",
        "numbers = list(map(int, input(f\"Введите {N} чисел: \").split()))\n",
        "\n",
        "has_positive = False\n",
        "\n",
        "for num in numbers:\n",
        "    if num > 0:\n",
        "        has_positive = True\n",
        "\n",
        "if has_positive:\n",
        "    print(\"TRUE\")\n",
        "else:\n",
        "    print(\"FALSE\")\n"
      ],
      "metadata": {
        "id": "8HFPa3drnD75",
        "outputId": "5dcac38c-d127-4e95-c7a2-aba48f16d6af",
        "colab": {
          "base_uri": "https://localhost:8080/"
        }
      },
      "execution_count": 96,
      "outputs": [
        {
          "output_type": "stream",
          "name": "stdout",
          "text": [
            "Введите количество чисел N: 5\n",
            "Введите 5 чисел: -1 -5 -4 -7 -9\n",
            "FALSE\n"
          ]
        }
      ]
    },
    {
      "cell_type": "markdown",
      "source": [
        "# 11"
      ],
      "metadata": {
        "id": "ECOp6igQpEhd"
      }
    },
    {
      "cell_type": "markdown",
      "source": [
        "1"
      ],
      "metadata": {
        "id": "CXgtbAsOpP8-"
      }
    },
    {
      "cell_type": "code",
      "source": [
        "def PowerA3(A, B):\n",
        "    B = A ** 3\n",
        "    return B\n",
        "\n",
        "\n",
        "numbers = []\n",
        "for i in range(5):\n",
        "    num = float(input(f\"Введите число {i + 1}: \"))\n",
        "    numbers.append(num)\n",
        "\n",
        "for i, num in enumerate(numbers):\n",
        "    result = PowerA3(num, 0)\n",
        "    print(f\"Третья степень числа {num} равна {result}\")\n"
      ],
      "metadata": {
        "id": "R02_68rdpQhb",
        "outputId": "ec49c020-0bef-4003-cffe-14fb8e41c340",
        "colab": {
          "base_uri": "https://localhost:8080/"
        }
      },
      "execution_count": 98,
      "outputs": [
        {
          "output_type": "stream",
          "name": "stdout",
          "text": [
            "Введите число 1: 5\n",
            "Введите число 2: 5\n",
            "Введите число 3: 5\n",
            "Введите число 4: 5\n",
            "Введите число 5: 5\n",
            "Третья степень числа 5.0 равна 125.0\n",
            "Третья степень числа 5.0 равна 125.0\n",
            "Третья степень числа 5.0 равна 125.0\n",
            "Третья степень числа 5.0 равна 125.0\n",
            "Третья степень числа 5.0 равна 125.0\n"
          ]
        }
      ]
    },
    {
      "cell_type": "markdown",
      "source": [
        "2"
      ],
      "metadata": {
        "id": "EMujF1bHqOwy"
      }
    },
    {
      "cell_type": "code",
      "source": [
        "def PowerA234(A):\n",
        "    B = A ** 2\n",
        "    C = A ** 3\n",
        "    D = A ** 4\n",
        "    return B, C, D\n",
        "\n",
        "\n",
        "numbers = []\n",
        "for i in range(5):\n",
        "    num = float(input(f\"Введите число {i + 1}: \"))\n",
        "    numbers.append(num)\n",
        "\n",
        "for i, num in enumerate(numbers):\n",
        "    B, C, D = PowerA234(num)\n",
        "    print(f\"Число {num}: Вторая степень = {B}, Третья степень = {C}, Четвертая степень = {D}\")\n"
      ],
      "metadata": {
        "id": "4UXHwe5mqPS5",
        "outputId": "aae2ccbc-c361-4911-8d0c-58f6f076867c",
        "colab": {
          "base_uri": "https://localhost:8080/"
        }
      },
      "execution_count": 99,
      "outputs": [
        {
          "output_type": "stream",
          "name": "stdout",
          "text": [
            "Введите число 1: 5\n",
            "Введите число 2: 2\n",
            "Введите число 3: 1\n",
            "Введите число 4: 2\n",
            "Введите число 5: 5\n",
            "Число 5.0: Вторая степень = 25.0, Третья степень = 125.0, Четвертая степень = 625.0\n",
            "Число 2.0: Вторая степень = 4.0, Третья степень = 8.0, Четвертая степень = 16.0\n",
            "Число 1.0: Вторая степень = 1.0, Третья степень = 1.0, Четвертая степень = 1.0\n",
            "Число 2.0: Вторая степень = 4.0, Третья степень = 8.0, Четвертая степень = 16.0\n",
            "Число 5.0: Вторая степень = 25.0, Третья степень = 125.0, Четвертая степень = 625.0\n"
          ]
        }
      ]
    },
    {
      "cell_type": "markdown",
      "source": [
        "3"
      ],
      "metadata": {
        "id": "Z3UxM5yVqqVa"
      }
    },
    {
      "cell_type": "code",
      "source": [
        "import math\n",
        "\n",
        "def Mean(X, Y):\n",
        "    AMean = (X + Y) / 2\n",
        "    GMean = math.sqrt(X * Y)\n",
        "    return AMean, GMean\n",
        "\n",
        "A = float(input())\n",
        "B = float(input())\n",
        "C = float(input())\n",
        "D = float(input())\n",
        "\n",
        "pairs = [(A, B), (A, C), (A, D)]\n",
        "for X, Y in pairs:\n",
        "    AMean, GMean = Mean(X, Y)\n",
        "    print(f\"Для чисел {X} и {Y}: Среднее арифметическое = {AMean}, Среднее геометрическое = {GMean}\")\n"
      ],
      "metadata": {
        "id": "v6blbxhSqq3l",
        "outputId": "5963447b-e1c3-4ec0-f40f-ae189600ef1e",
        "colab": {
          "base_uri": "https://localhost:8080/"
        }
      },
      "execution_count": 108,
      "outputs": [
        {
          "output_type": "stream",
          "name": "stdout",
          "text": [
            "5\n",
            "6\n",
            "8\n",
            "7\n",
            "Для чисел 5.0 и 6.0: Среднее арифметическое = 5.5, Среднее геометрическое = 5.477225575051661\n",
            "Для чисел 5.0 и 8.0: Среднее арифметическое = 6.5, Среднее геометрическое = 6.324555320336759\n",
            "Для чисел 5.0 и 7.0: Среднее арифметическое = 6.0, Среднее геометрическое = 5.916079783099616\n"
          ]
        }
      ]
    },
    {
      "cell_type": "markdown",
      "source": [
        "4"
      ],
      "metadata": {
        "id": "MUkcMhvSrdBx"
      }
    },
    {
      "cell_type": "code",
      "source": [
        "import math\n",
        "\n",
        "def TrianglePS(a):\n",
        "    P = 3 * a\n",
        "    S = (a ** 2 * math.sqrt(3)) / 4\n",
        "    return P, S\n",
        "\n",
        "# Ввод данных для трех треугольников\n",
        "a1 = float(input())\n",
        "a2 = float(input())\n",
        "a3 = float(input())\n",
        "\n",
        "# Вычисление периметров и площадей\n",
        "for a in [a1, a2, a3]:\n",
        "    P, S = TrianglePS(a)\n",
        "    print(f\"Периметр: {P}, Площадь: {S}\")\n"
      ],
      "metadata": {
        "id": "xhHB8yEtrdgO",
        "outputId": "3545f4ab-8a1e-436e-81ed-8c3aacf2ac28",
        "colab": {
          "base_uri": "https://localhost:8080/"
        }
      },
      "execution_count": 109,
      "outputs": [
        {
          "output_type": "stream",
          "name": "stdout",
          "text": [
            "4\n",
            "5\n",
            "7\n",
            "Периметр: 12.0, Площадь: 6.928203230275509\n",
            "Периметр: 15.0, Площадь: 10.825317547305483\n",
            "Периметр: 21.0, Площадь: 21.217622392718745\n"
          ]
        }
      ]
    },
    {
      "cell_type": "markdown",
      "source": [
        "8\n"
      ],
      "metadata": {
        "id": "Js_7yi5zr0SW"
      }
    },
    {
      "cell_type": "code",
      "source": [
        "def AddRightDigit(D, K):\n",
        "    K = K * 10 + D\n",
        "    return K\n",
        "\n",
        "K = int(input(\"Введите число K: \"))\n",
        "D1 = int(input(\"Введите цифру D1: \"))\n",
        "D2 = int(input(\"Введите цифру D2: \"))\n",
        "\n",
        "K = AddRightDigit(D1, K)\n",
        "print(f\"После добавления цифры {D1}: {K}\")\n",
        "\n",
        "K = AddRightDigit(D2, K)\n",
        "print(f\"После добавления цифры {D2}: {K}\")\n"
      ],
      "metadata": {
        "id": "f_rTgzmtr1A7",
        "outputId": "d61ab8f5-982e-47ed-fbdc-248463b6864b",
        "colab": {
          "base_uri": "https://localhost:8080/"
        }
      },
      "execution_count": 113,
      "outputs": [
        {
          "output_type": "stream",
          "name": "stdout",
          "text": [
            "Введите число K: 500\n",
            "Введите цифру D1: 1\n",
            "Введите цифру D2: 2\n",
            "После добавления цифры 1: 5001\n",
            "После добавления цифры 2: 50012\n"
          ]
        }
      ]
    }
  ]
}